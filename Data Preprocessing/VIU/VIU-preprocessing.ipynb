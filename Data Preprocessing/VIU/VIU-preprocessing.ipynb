{
 "cells": [
  {
   "cell_type": "code",
   "execution_count": 64,
   "id": "244e6c5c",
   "metadata": {},
   "outputs": [],
   "source": [
    "import pandas as pd\n",
    "import json\n",
    "import numpy as np\n",
    "import os"
   ]
  },
  {
   "cell_type": "code",
   "execution_count": 26,
   "id": "2d7f401e",
   "metadata": {},
   "outputs": [],
   "source": [
    "im_names = [im[:-4] for im in (os.listdir(\"data/Images\"))]\n",
    "im_names.sort()"
   ]
  },
  {
   "cell_type": "code",
   "execution_count": 38,
   "id": "9281a871",
   "metadata": {},
   "outputs": [
    {
     "data": {
      "text/plain": [
       "True"
      ]
     },
     "execution_count": 38,
     "metadata": {},
     "output_type": "execute_result"
    }
   ],
   "source": [
    "'image_r_800' in im_names"
   ]
  },
  {
   "cell_type": "code",
   "execution_count": 15,
   "id": "a4a1725e",
   "metadata": {},
   "outputs": [],
   "source": [
    "data = pd.read_csv(\"data/FreeViewing.txt\", sep='\\s+')"
   ]
  },
  {
   "cell_type": "code",
   "execution_count": 16,
   "id": "55b72fc8",
   "metadata": {},
   "outputs": [
    {
     "data": {
      "text/plain": [
       "Index(['x', 'y', 'obs', 'image', 'fixation'], dtype='object')"
      ]
     },
     "execution_count": 16,
     "metadata": {},
     "output_type": "execute_result"
    }
   ],
   "source": [
    "data.keys()"
   ]
  },
  {
   "cell_type": "code",
   "execution_count": 42,
   "id": "d1f457dd",
   "metadata": {},
   "outputs": [
    {
     "data": {
      "text/html": [
       "<div>\n",
       "<style scoped>\n",
       "    .dataframe tbody tr th:only-of-type {\n",
       "        vertical-align: middle;\n",
       "    }\n",
       "\n",
       "    .dataframe tbody tr th {\n",
       "        vertical-align: top;\n",
       "    }\n",
       "\n",
       "    .dataframe thead th {\n",
       "        text-align: right;\n",
       "    }\n",
       "</style>\n",
       "<table border=\"1\" class=\"dataframe\">\n",
       "  <thead>\n",
       "    <tr style=\"text-align: right;\">\n",
       "      <th></th>\n",
       "      <th>x</th>\n",
       "      <th>y</th>\n",
       "      <th>obs</th>\n",
       "      <th>image</th>\n",
       "      <th>fixation</th>\n",
       "    </tr>\n",
       "  </thead>\n",
       "  <tbody>\n",
       "    <tr>\n",
       "      <th>0</th>\n",
       "      <td>216.0</td>\n",
       "      <td>186.0</td>\n",
       "      <td>1</td>\n",
       "      <td>1</td>\n",
       "      <td>1</td>\n",
       "    </tr>\n",
       "    <tr>\n",
       "      <th>1</th>\n",
       "      <td>199.0</td>\n",
       "      <td>194.0</td>\n",
       "      <td>1</td>\n",
       "      <td>1</td>\n",
       "      <td>2</td>\n",
       "    </tr>\n",
       "    <tr>\n",
       "      <th>2</th>\n",
       "      <td>212.0</td>\n",
       "      <td>189.0</td>\n",
       "      <td>1</td>\n",
       "      <td>1</td>\n",
       "      <td>3</td>\n",
       "    </tr>\n",
       "    <tr>\n",
       "      <th>3</th>\n",
       "      <td>252.0</td>\n",
       "      <td>155.0</td>\n",
       "      <td>1</td>\n",
       "      <td>1</td>\n",
       "      <td>4</td>\n",
       "    </tr>\n",
       "    <tr>\n",
       "      <th>4</th>\n",
       "      <td>344.0</td>\n",
       "      <td>199.0</td>\n",
       "      <td>1</td>\n",
       "      <td>1</td>\n",
       "      <td>5</td>\n",
       "    </tr>\n",
       "    <tr>\n",
       "      <th>5</th>\n",
       "      <td>256.0</td>\n",
       "      <td>70.0</td>\n",
       "      <td>1</td>\n",
       "      <td>1</td>\n",
       "      <td>6</td>\n",
       "    </tr>\n",
       "    <tr>\n",
       "      <th>6</th>\n",
       "      <td>344.0</td>\n",
       "      <td>165.0</td>\n",
       "      <td>1</td>\n",
       "      <td>1</td>\n",
       "      <td>7</td>\n",
       "    </tr>\n",
       "    <tr>\n",
       "      <th>7</th>\n",
       "      <td>262.0</td>\n",
       "      <td>86.0</td>\n",
       "      <td>1</td>\n",
       "      <td>1</td>\n",
       "      <td>8</td>\n",
       "    </tr>\n",
       "    <tr>\n",
       "      <th>8</th>\n",
       "      <td>334.0</td>\n",
       "      <td>159.0</td>\n",
       "      <td>1</td>\n",
       "      <td>1</td>\n",
       "      <td>9</td>\n",
       "    </tr>\n",
       "    <tr>\n",
       "      <th>9</th>\n",
       "      <td>330.0</td>\n",
       "      <td>137.0</td>\n",
       "      <td>1</td>\n",
       "      <td>1</td>\n",
       "      <td>10</td>\n",
       "    </tr>\n",
       "    <tr>\n",
       "      <th>10</th>\n",
       "      <td>335.0</td>\n",
       "      <td>171.0</td>\n",
       "      <td>1</td>\n",
       "      <td>1</td>\n",
       "      <td>11</td>\n",
       "    </tr>\n",
       "    <tr>\n",
       "      <th>11</th>\n",
       "      <td>336.0</td>\n",
       "      <td>191.0</td>\n",
       "      <td>1</td>\n",
       "      <td>1</td>\n",
       "      <td>12</td>\n",
       "    </tr>\n",
       "    <tr>\n",
       "      <th>12</th>\n",
       "      <td>240.0</td>\n",
       "      <td>68.0</td>\n",
       "      <td>1</td>\n",
       "      <td>1</td>\n",
       "      <td>13</td>\n",
       "    </tr>\n",
       "    <tr>\n",
       "      <th>13</th>\n",
       "      <td>NaN</td>\n",
       "      <td>NaN</td>\n",
       "      <td>1</td>\n",
       "      <td>1</td>\n",
       "      <td>14</td>\n",
       "    </tr>\n",
       "    <tr>\n",
       "      <th>14</th>\n",
       "      <td>NaN</td>\n",
       "      <td>NaN</td>\n",
       "      <td>1</td>\n",
       "      <td>1</td>\n",
       "      <td>15</td>\n",
       "    </tr>\n",
       "  </tbody>\n",
       "</table>\n",
       "</div>"
      ],
      "text/plain": [
       "        x      y  obs  image  fixation\n",
       "0   216.0  186.0    1      1         1\n",
       "1   199.0  194.0    1      1         2\n",
       "2   212.0  189.0    1      1         3\n",
       "3   252.0  155.0    1      1         4\n",
       "4   344.0  199.0    1      1         5\n",
       "5   256.0   70.0    1      1         6\n",
       "6   344.0  165.0    1      1         7\n",
       "7   262.0   86.0    1      1         8\n",
       "8   334.0  159.0    1      1         9\n",
       "9   330.0  137.0    1      1        10\n",
       "10  335.0  171.0    1      1        11\n",
       "11  336.0  191.0    1      1        12\n",
       "12  240.0   68.0    1      1        13\n",
       "13    NaN    NaN    1      1        14\n",
       "14    NaN    NaN    1      1        15"
      ]
     },
     "execution_count": 42,
     "metadata": {},
     "output_type": "execute_result"
    }
   ],
   "source": [
    "data[0:15]"
   ]
  },
  {
   "cell_type": "code",
   "execution_count": 35,
   "id": "c37de764",
   "metadata": {},
   "outputs": [
    {
     "data": {
      "text/plain": [
       "[216.0, 199.0, 212.0, 252.0, 344.0]"
      ]
     },
     "execution_count": 35,
     "metadata": {},
     "output_type": "execute_result"
    }
   ],
   "source": [
    "list(data[0:5]['x'])"
   ]
  },
  {
   "cell_type": "code",
   "execution_count": 59,
   "id": "9be3f732",
   "metadata": {},
   "outputs": [
    {
     "data": {
      "text/plain": [
       "array([[216., 186.],\n",
       "       [199., 194.],\n",
       "       [212., 189.],\n",
       "       [252., 155.],\n",
       "       [344., 199.],\n",
       "       [256.,  70.],\n",
       "       [344., 165.],\n",
       "       [262.,  86.],\n",
       "       [334., 159.],\n",
       "       [330., 137.],\n",
       "       [335., 171.],\n",
       "       [336., 191.],\n",
       "       [240.,  68.],\n",
       "       [ nan,  nan],\n",
       "       [ nan,  nan]])"
      ]
     },
     "execution_count": 59,
     "metadata": {},
     "output_type": "execute_result"
    }
   ],
   "source": [
    "data[:15].values[:,0:2]"
   ]
  },
  {
   "cell_type": "code",
   "execution_count": 89,
   "id": "12fccc59",
   "metadata": {},
   "outputs": [
    {
     "data": {
      "text/plain": [
       "True"
      ]
     },
     "execution_count": 89,
     "metadata": {},
     "output_type": "execute_result"
    }
   ],
   "source": [
    "np.isnan(np.float64(np.nan))"
   ]
  },
  {
   "cell_type": "code",
   "execution_count": 90,
   "id": "14e7fbfa",
   "metadata": {},
   "outputs": [],
   "source": [
    "def clean_fix(fixs, min_dur=20):\n",
    "    fixation = []\n",
    "    try:\n",
    "        for x,y in fixs:\n",
    "            if x == None or np.isnan(x) or y == None or np.isnan(y):\n",
    "                continue\n",
    "            x = float(x)\n",
    "            y = float(y)\n",
    "            if len(fixation) == 0:\n",
    "                fixation.append([y,x])\n",
    "                continue\n",
    "            fy, fx = fixation[-1]\n",
    "      \n",
    "            if abs(fy - float(y)) < 20 and abs(fx - float(x)) < 20:\n",
    "                fy = round((fy + y)/2, 2)\n",
    "                fx = round((fx + x)/2, 2)\n",
    "                fixation[-1] = [fy, fx]\n",
    "            else:\n",
    "                fixation.append([y,x])\n",
    "      \n",
    "    except:\n",
    "        print('only single fixation found')\n",
    "\n",
    "    return fixation"
   ]
  },
  {
   "cell_type": "code",
   "execution_count": 95,
   "id": "0ee3d44e",
   "metadata": {},
   "outputs": [],
   "source": [
    "anno_dict = {f'image_r_{i}': {'fixations': []} for i in range(1,801)}\n",
    "\n",
    "for i in range(0, len(data), 15):\n",
    "    im_name = f'image_r_{int(data[i:i+1].image)}'\n",
    "    fixation = clean_fix(data[i:i+15].values[:,0:2])\n",
    "    if len(fixation) > 1:\n",
    "        anno_dict[im_name]['fixations'].append(fixation)"
   ]
  },
  {
   "cell_type": "code",
   "execution_count": 96,
   "id": "fef4ca59",
   "metadata": {},
   "outputs": [],
   "source": [
    "k = list(anno_dict.keys())"
   ]
  },
  {
   "cell_type": "code",
   "execution_count": 97,
   "id": "0d4017cf",
   "metadata": {},
   "outputs": [
    {
     "data": {
      "text/plain": [
       "800"
      ]
     },
     "execution_count": 97,
     "metadata": {},
     "output_type": "execute_result"
    }
   ],
   "source": [
    "len(k)"
   ]
  },
  {
   "cell_type": "code",
   "execution_count": 104,
   "id": "13e69bc8",
   "metadata": {},
   "outputs": [],
   "source": [
    "fixlens = []\n",
    "num_persons = []\n",
    "for _, d in anno_dict.items():\n",
    "    num_persons.append(len(d['fixations']))\n",
    "    for fixs in d['fixations']:\n",
    "        fixlens.append(len(fixs))"
   ]
  },
  {
   "cell_type": "code",
   "execution_count": 100,
   "id": "9bcfb295",
   "metadata": {},
   "outputs": [
    {
     "data": {
      "text/plain": [
       "(2, 14)"
      ]
     },
     "execution_count": 100,
     "metadata": {},
     "output_type": "execute_result"
    }
   ],
   "source": [
    "min(fixlens), max(fixlens)"
   ]
  },
  {
   "cell_type": "code",
   "execution_count": 101,
   "id": "acc74acc",
   "metadata": {},
   "outputs": [
    {
     "data": {
      "text/plain": [
       "5.228952150211993"
      ]
     },
     "execution_count": 101,
     "metadata": {},
     "output_type": "execute_result"
    }
   ],
   "source": [
    "sum(fixlens) / len(fixlens)"
   ]
  },
  {
   "cell_type": "code",
   "execution_count": 106,
   "id": "f9e33a6b",
   "metadata": {},
   "outputs": [
    {
     "data": {
      "text/plain": [
       "6"
      ]
     },
     "execution_count": 106,
     "metadata": {},
     "output_type": "execute_result"
    }
   ],
   "source": [
    "from statistics import mode\n",
    "mode(fixlens)"
   ]
  },
  {
   "cell_type": "code",
   "execution_count": 105,
   "id": "b573fb3a",
   "metadata": {},
   "outputs": [
    {
     "data": {
      "text/plain": [
       "(17, 22)"
      ]
     },
     "execution_count": 105,
     "metadata": {},
     "output_type": "execute_result"
    }
   ],
   "source": [
    "min(num_persons), max(num_persons)"
   ]
  },
  {
   "cell_type": "code",
   "execution_count": 102,
   "id": "e2ebdc63",
   "metadata": {},
   "outputs": [],
   "source": [
    "with open('VIU_annotations.json', 'w') as fp:\n",
    "    json.dump(anno_dict, fp)"
   ]
  },
  {
   "cell_type": "code",
   "execution_count": null,
   "id": "78dd0cbb",
   "metadata": {},
   "outputs": [],
   "source": []
  }
 ],
 "metadata": {
  "kernelspec": {
   "display_name": "Python 3 (ipykernel)",
   "language": "python",
   "name": "python3"
  },
  "language_info": {
   "codemirror_mode": {
    "name": "ipython",
    "version": 3
   },
   "file_extension": ".py",
   "mimetype": "text/x-python",
   "name": "python",
   "nbconvert_exporter": "python",
   "pygments_lexer": "ipython3",
   "version": "3.8.10"
  }
 },
 "nbformat": 4,
 "nbformat_minor": 5
}
