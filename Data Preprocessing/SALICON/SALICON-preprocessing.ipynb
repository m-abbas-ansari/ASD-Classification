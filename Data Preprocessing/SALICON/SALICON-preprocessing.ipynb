{
 "cells": [
  {
   "cell_type": "code",
   "execution_count": 5,
   "id": "d7671253",
   "metadata": {},
   "outputs": [],
   "source": [
    "from scipy.io import loadmat\n",
    "import numpy as np\n",
    "import os\n",
    "from glob import glob\n",
    "import json"
   ]
  },
  {
   "cell_type": "code",
   "execution_count": 6,
   "id": "f4b3e63c",
   "metadata": {},
   "outputs": [],
   "source": [
    "train_files = glob('fixations/train/*.mat')"
   ]
  },
  {
   "cell_type": "code",
   "execution_count": 28,
   "id": "977a805f",
   "metadata": {},
   "outputs": [
    {
     "data": {
      "text/plain": [
       "10000"
      ]
     },
     "execution_count": 28,
     "metadata": {},
     "output_type": "execute_result"
    }
   ],
   "source": [
    "len(train_files)"
   ]
  },
  {
   "cell_type": "code",
   "execution_count": 8,
   "id": "017bbf61",
   "metadata": {},
   "outputs": [],
   "source": [
    "mat_path = train_files[0]\n",
    "m = loadmat(mat_path)"
   ]
  },
  {
   "cell_type": "code",
   "execution_count": 14,
   "id": "4a151703",
   "metadata": {},
   "outputs": [
    {
     "data": {
      "text/plain": [
       "'fixations/train/COCO_train2014_000000341894.mat'"
      ]
     },
     "execution_count": 14,
     "metadata": {},
     "output_type": "execute_result"
    }
   ],
   "source": [
    "mat_path"
   ]
  },
  {
   "cell_type": "code",
   "execution_count": 11,
   "id": "166c8068",
   "metadata": {},
   "outputs": [
    {
     "data": {
      "text/plain": [
       "dict_keys(['__header__', '__version__', '__globals__', 'image', 'resolution', 'gaze'])"
      ]
     },
     "execution_count": 11,
     "metadata": {},
     "output_type": "execute_result"
    }
   ],
   "source": [
    "m.keys()"
   ]
  },
  {
   "cell_type": "code",
   "execution_count": 13,
   "id": "ea440205",
   "metadata": {},
   "outputs": [
    {
     "data": {
      "text/plain": [
       "'COCO_train2014_000000341894'"
      ]
     },
     "execution_count": 13,
     "metadata": {},
     "output_type": "execute_result"
    }
   ],
   "source": [
    "m['image'][0]"
   ]
  },
  {
   "cell_type": "code",
   "execution_count": 15,
   "id": "1ce5898d",
   "metadata": {},
   "outputs": [
    {
     "data": {
      "text/plain": [
       "array([[480, 640]], dtype=uint16)"
      ]
     },
     "execution_count": 15,
     "metadata": {},
     "output_type": "execute_result"
    }
   ],
   "source": [
    "m['resolution']"
   ]
  },
  {
   "cell_type": "code",
   "execution_count": 34,
   "id": "f94ed31d",
   "metadata": {},
   "outputs": [
    {
     "data": {
      "text/plain": [
       "array([[247, 120],\n",
       "       [227, 131],\n",
       "       [253, 256],\n",
       "       [368, 276],\n",
       "       [540, 275],\n",
       "       [465, 434],\n",
       "       [196, 408],\n",
       "       [121, 126]], dtype=uint16)"
      ]
     },
     "execution_count": 34,
     "metadata": {},
     "output_type": "execute_result"
    }
   ],
   "source": [
    "f = m['gaze'][2][0][2]\n",
    "f"
   ]
  },
  {
   "cell_type": "code",
   "execution_count": 52,
   "id": "c32af5ce",
   "metadata": {},
   "outputs": [],
   "source": [
    "def clean_fix(fixs, min_dur=20):\n",
    "    fixation = []\n",
    "    try:\n",
    "        for x,y in fixs:\n",
    "            if x == None or y == None:\n",
    "                continue\n",
    "            x = float(x)\n",
    "            y = float(y)\n",
    "            if len(fixation) == 0:\n",
    "                fixation.append([y,x])\n",
    "                continue\n",
    "            fy, fx = fixation[-1]\n",
    "      \n",
    "            if abs(fy - float(y)) < 20 and abs(fx - float(x)) < 20:\n",
    "                fy = round((fy + y)/2, 2)\n",
    "                fx = round((fx + x)/2, 2)\n",
    "                fixation[-1] = [fy, fx]\n",
    "            else:\n",
    "                fixation.append([y,x])\n",
    "      \n",
    "    except:\n",
    "        print('only single fixation found')\n",
    "\n",
    "    return fixation"
   ]
  },
  {
   "cell_type": "code",
   "execution_count": 37,
   "id": "4071f571",
   "metadata": {},
   "outputs": [
    {
     "data": {
      "text/plain": [
       "[[120, 247],\n",
       " [131, 227],\n",
       " [256, 253],\n",
       " [276, 368],\n",
       " [275, 540],\n",
       " [434, 465],\n",
       " [408, 196],\n",
       " [126, 121]]"
      ]
     },
     "execution_count": 37,
     "metadata": {},
     "output_type": "execute_result"
    }
   ],
   "source": [
    "clean_fix(f)"
   ]
  },
  {
   "cell_type": "code",
   "execution_count": 53,
   "id": "9b28bcbc",
   "metadata": {},
   "outputs": [],
   "source": [
    "anno_dict = {}\n",
    "\n",
    "for anno_pth in train_files:\n",
    "    anno = loadmat(anno_pth)\n",
    "    im_name = anno['image'][0]\n",
    "    fixation = clean_fix(anno['gaze'][2][0][2])\n",
    "    if len(fixation) != 0:\n",
    "        anno_dict[im_name] = {'fixations': [fixation]}"
   ]
  },
  {
   "cell_type": "code",
   "execution_count": 41,
   "id": "338d52b3",
   "metadata": {},
   "outputs": [],
   "source": [
    "l = list(anno_dict.keys())"
   ]
  },
  {
   "cell_type": "code",
   "execution_count": 43,
   "id": "9a7a20fa",
   "metadata": {},
   "outputs": [
    {
     "data": {
      "text/plain": [
       "{'fixations': [[[120, 247],\n",
       "   [131, 227],\n",
       "   [256, 253],\n",
       "   [276, 368],\n",
       "   [275, 540],\n",
       "   [434, 465],\n",
       "   [408, 196],\n",
       "   [126, 121]]]}"
      ]
     },
     "execution_count": 43,
     "metadata": {},
     "output_type": "execute_result"
    }
   ],
   "source": [
    "anno_dict[l[0]]"
   ]
  },
  {
   "cell_type": "code",
   "execution_count": 54,
   "id": "a3bc4365",
   "metadata": {},
   "outputs": [],
   "source": [
    "with open('SALICON_annotations.json', 'w') as fp:\n",
    "    json.dump(anno_dict, fp)"
   ]
  },
  {
   "cell_type": "code",
   "execution_count": 44,
   "id": "7df306d5",
   "metadata": {},
   "outputs": [],
   "source": [
    "test_dict = {}\n",
    "with open('../CAT2000/CAT2000_annotations.json') as f:\n",
    "    test_dict = json.load(f)"
   ]
  },
  {
   "cell_type": "code",
   "execution_count": 46,
   "id": "575acc6c",
   "metadata": {},
   "outputs": [],
   "source": [
    "br = list(test_dict.keys())"
   ]
  },
  {
   "cell_type": "code",
   "execution_count": 61,
   "id": "396ba6be",
   "metadata": {},
   "outputs": [
    {
     "data": {
      "text/plain": [
       "2000"
      ]
     },
     "execution_count": 61,
     "metadata": {},
     "output_type": "execute_result"
    }
   ],
   "source": [
    "len(br)"
   ]
  },
  {
   "cell_type": "code",
   "execution_count": 47,
   "id": "389fae11",
   "metadata": {},
   "outputs": [
    {
     "data": {
      "text/plain": [
       "{'fixations': [[[778.6, 1014.8],\n",
       "   [609, 813.6],\n",
       "   [487.8, 884.1],\n",
       "   [527.3, 922.6],\n",
       "   [477.9, 749.6],\n",
       "   [370.9, 915.9],\n",
       "   [515.3, 1412.2],\n",
       "   [431.8, 786.4],\n",
       "   [477.6, 723.9],\n",
       "   [517.2, 735.9],\n",
       "   [1461.4, 1066.4],\n",
       "   [523.8, 738.7],\n",
       "   [444.1, 709.6],\n",
       "   [420.8, 761.7],\n",
       "   [431.9, 782.4],\n",
       "   [304, 703.4],\n",
       "   [456.8, 855.6]],\n",
       "  [[454.3, 941.4],\n",
       "   [454.7, 919.3],\n",
       "   [447.3, 778.5],\n",
       "   [509.2, 938.2],\n",
       "   [474.1, 848.9],\n",
       "   [554.4, 523.9],\n",
       "   [502.6, 1408.5],\n",
       "   [383.9, 1042.3],\n",
       "   [456.1, 778.8],\n",
       "   [431.9, 759.3],\n",
       "   [413.4, 843.8],\n",
       "   [632.1, 758.5],\n",
       "   [706.0, 677.6],\n",
       "   [1009.1, 862.0],\n",
       "   [478, 941.5]],\n",
       "  [[527.5, 930.9],\n",
       "   [504.6, 813.9],\n",
       "   [453.5, 789.5],\n",
       "   [532.3, 800.2],\n",
       "   [411.4, 814.4],\n",
       "   [389.3, 831.3],\n",
       "   [410.3, 835.4],\n",
       "   [480.7, 805.7],\n",
       "   [525.1, 787.8],\n",
       "   [458.9, 786],\n",
       "   [434.2, 814.3],\n",
       "   [428.1, 783.2],\n",
       "   [480.6, 795.8],\n",
       "   [554.7, 804.4],\n",
       "   [366.4, 914.2],\n",
       "   [403.3, 908.9],\n",
       "   [561.5, 1012.5]],\n",
       "  [[641.2, 1018.7],\n",
       "   [605, 995.8],\n",
       "   [561.9, 826.5],\n",
       "   [607.6, 817.8],\n",
       "   [519.7, 870.9],\n",
       "   [602.25, 831.0],\n",
       "   [485.9, 865.9],\n",
       "   [488.1, 592.8],\n",
       "   [470.2, 848.2],\n",
       "   [458.3, 908.6],\n",
       "   [539.8, 1497.4],\n",
       "   [423.9, 893.2],\n",
       "   [459.6, 866.7],\n",
       "   [592, 825.7],\n",
       "   [456, 871.4],\n",
       "   [595.3, 829.1],\n",
       "   [556.8, 1118.4],\n",
       "   [866.4, 957.1],\n",
       "   [567.1, 918.4],\n",
       "   [485.9, 1147.3]],\n",
       "  [[663.5, 949.8],\n",
       "   [634.8, 928.45],\n",
       "   [581, 804.9],\n",
       "   [477.2, 806.9],\n",
       "   [527.7, 825.7],\n",
       "   [543.8, 763.4],\n",
       "   [559.1, 852.7],\n",
       "   [640, 1455.6],\n",
       "   [703, 1425.7],\n",
       "   [590.7, 908.2],\n",
       "   [523.7, 930.5],\n",
       "   [568.4, 842],\n",
       "   [705.7, 906.4],\n",
       "   [674.3, 907.9],\n",
       "   [666.8, 1513.5],\n",
       "   [673.6, 1446],\n",
       "   [538.7, 906.3],\n",
       "   [368.6, 1401.2],\n",
       "   [469.8, 1080],\n",
       "   [496.3, 1568.9],\n",
       "   [602.4, 1852.5],\n",
       "   [552.1, 943.3],\n",
       "   [544.2, 1212.8],\n",
       "   [511.4, 1076.9],\n",
       "   [488.4, 1019.3],\n",
       "   [472.3, 913.9]],\n",
       "  [[1120.8, 1088.8],\n",
       "   [637.1, 969.5],\n",
       "   [558.2, 999.7],\n",
       "   [542.4, 859.1],\n",
       "   [781.3, 811.4],\n",
       "   [770.6, 1000],\n",
       "   [528.4, 864.9],\n",
       "   [482.6, 912.1],\n",
       "   [452.7, 928.8],\n",
       "   [501.1, 885.9],\n",
       "   [487.5, 1070.6],\n",
       "   [509, 1152.1],\n",
       "   [602.8, 1482.9],\n",
       "   [537.7, 884.8],\n",
       "   [1112.5, 1102.0],\n",
       "   [951.1, 1033.2],\n",
       "   [1085.5, 1072.6]],\n",
       "  [[531.2, 974.3],\n",
       "   [447.9, 826.1],\n",
       "   [489.9, 792.2],\n",
       "   [517.9, 781.5],\n",
       "   [480.9, 535.7],\n",
       "   [494.9, 475.6],\n",
       "   [866.3, 707.5],\n",
       "   [1102.8, 902.9],\n",
       "   [1071.3, 876],\n",
       "   [761.3, 1354.7],\n",
       "   [674, 1483],\n",
       "   [648.3, 1491.2],\n",
       "   [408.6, 1136.5],\n",
       "   [400.4, 1020.1],\n",
       "   [409.6, 894.6],\n",
       "   [431.1, 839.8],\n",
       "   [494.1, 888]],\n",
       "  [[613.55, 1080.15],\n",
       "   [518.8, 942.8],\n",
       "   [594.6, 879],\n",
       "   [583.2, 912.8],\n",
       "   [487.55, 948.7],\n",
       "   [588.35, 911.15],\n",
       "   [601.1, 862.7],\n",
       "   [589.25, 905.7],\n",
       "   [535.7, 913.1],\n",
       "   [526, 983.1],\n",
       "   [664.2, 1336.7],\n",
       "   [733.3, 1484.9],\n",
       "   [723.9, 1225.2],\n",
       "   [790, 1161.7]],\n",
       "  [[577.9, 962.7],\n",
       "   [567.5, 997.6],\n",
       "   [487.1, 854.7],\n",
       "   [535.6, 823.8],\n",
       "   [555.1, 853.9],\n",
       "   [532.8, 852.5],\n",
       "   [499.7, 549.8],\n",
       "   [530.2, 568.7],\n",
       "   [584.4, 833.5],\n",
       "   [551.6, 865.8],\n",
       "   [543.1, 845.2],\n",
       "   [435.2, 1193.8],\n",
       "   [409.1, 1112],\n",
       "   [414.7, 1024.8],\n",
       "   [266.4, 883.8],\n",
       "   [736.2, 921.6],\n",
       "   [1154.8, 1037.2],\n",
       "   [1107.8, 999.8],\n",
       "   [1136.9, 1271.3],\n",
       "   [995, 1293.5],\n",
       "   [1126.6, 1234.3],\n",
       "   [1027, 1235]],\n",
       "  [[551.3, 1002.8],\n",
       "   [575, 916.6],\n",
       "   [589.1, 987.8],\n",
       "   [450.5, 855.2],\n",
       "   [465.9, 773.6],\n",
       "   [502.4, 776.7],\n",
       "   [558.05, 810.85],\n",
       "   [494.8, 829.5],\n",
       "   [462.2, 784.4],\n",
       "   [483.7, 818.7],\n",
       "   [705.5, 1365.7],\n",
       "   [1112.5, 1146.5],\n",
       "   [1047.5, 1059.3],\n",
       "   [1047.6, 1105.2],\n",
       "   [399.9, 1128.1],\n",
       "   [287, 880.7],\n",
       "   [-149.8, 1142.6],\n",
       "   [77.6, 1116.4]],\n",
       "  [[604.8, 897.9],\n",
       "   [440.6, 892.6],\n",
       "   [389.4, 866],\n",
       "   [495.4, 812.4],\n",
       "   [413.9, 836],\n",
       "   [581.2, 843.2],\n",
       "   [442.3, 863.3],\n",
       "   [841.2, 998.8],\n",
       "   [1079.4, 1017.2],\n",
       "   [1102, 973.4],\n",
       "   [1138.6, 1232.3],\n",
       "   [1077.7, 1230.8],\n",
       "   [1042.4, 1218],\n",
       "   [1151.6, 1228.8]],\n",
       "  [[602.3, 975.7],\n",
       "   [552.7, 838.9],\n",
       "   [473.1, 857.2],\n",
       "   [523.3, 919.9],\n",
       "   [640.6, 899],\n",
       "   [542.4, 879.6],\n",
       "   [530.2, 939.3],\n",
       "   [463.45, 950.65],\n",
       "   [442.2, 932.7]],\n",
       "  [[494.6, 930.9],\n",
       "   [439.8, 741.5],\n",
       "   [463.9, 757.8],\n",
       "   [490.6, 702.5],\n",
       "   [367.9, 432.5],\n",
       "   [348.8, 958.7],\n",
       "   [464, 723.2],\n",
       "   [463, 747],\n",
       "   [844.6, 2108.1],\n",
       "   [1128.5, 913.5],\n",
       "   [1150.7, 930],\n",
       "   [486.2, 876.5]],\n",
       "  [[520.6, 927.3],\n",
       "   [493.7, 900.7],\n",
       "   [403.4, 777.3],\n",
       "   [426.5, 719.1],\n",
       "   [513.9, 721.4],\n",
       "   [821.7, 830.9],\n",
       "   [781.2, 882.2],\n",
       "   [486.5, 732.3],\n",
       "   [432.1, 755.2],\n",
       "   [381.1, 733.3],\n",
       "   [359.6, 795.9],\n",
       "   [494.3, 1474.4],\n",
       "   [437.3, 774.6],\n",
       "   [721.9, 716.1],\n",
       "   [603.6, 818],\n",
       "   [551.5, 872.5]],\n",
       "  [[543.7, 1038.1],\n",
       "   [609.1, 1025.6],\n",
       "   [540.5, 877.8],\n",
       "   [514.4, 849],\n",
       "   [578.9, 855.25],\n",
       "   [490.1, 862.5],\n",
       "   [484.9, 892.7],\n",
       "   [549.1, 529.6],\n",
       "   [513.9, 607.4],\n",
       "   [498.9, 856.5],\n",
       "   [557.3, 1013.2],\n",
       "   [654.9, 1560.5],\n",
       "   [542.7, 858.05],\n",
       "   [517.8, 853.2],\n",
       "   [504.3, 913.3],\n",
       "   [591.1, 885.2],\n",
       "   [493.2, 858.2],\n",
       "   [532.4, 934]],\n",
       "  [[577.33, 1032.85],\n",
       "   [479.4, 891.4],\n",
       "   [537.9, 841.5],\n",
       "   [550.8, 873.7],\n",
       "   [427.3, 845.7],\n",
       "   [426.4, 893.7],\n",
       "   [783.3, 1072.1],\n",
       "   [750.8, 923.4],\n",
       "   [819.9, 700.1],\n",
       "   [666.3, 748.8],\n",
       "   [393.7, 725.2],\n",
       "   [441.1, 457.6],\n",
       "   [1257.4, 1101.6],\n",
       "   [1086.9, 1225.5],\n",
       "   [1119.9, 1232.6],\n",
       "   [1118, 1261.1],\n",
       "   [1104, 1308.7],\n",
       "   [1341.6, 1381.35],\n",
       "   [1403.3, 1466.6],\n",
       "   [1054.5, 973.6]],\n",
       "  [[426, 1080.3],\n",
       "   [433.7, 1058.2],\n",
       "   [480.7, 1067.5],\n",
       "   [427.1, 900.2],\n",
       "   [388.3, 905.8],\n",
       "   [468.3, 909],\n",
       "   [603.5, 1577.3],\n",
       "   [335.3, 1223.4],\n",
       "   [300.1, 1285.8],\n",
       "   [444.6, 915.1],\n",
       "   [663.8, 1036.1],\n",
       "   [818.1, 824.3],\n",
       "   [478.3, 1206.1],\n",
       "   [330.9, 1276.7],\n",
       "   [357, 907.5],\n",
       "   [509.1, 1490.7],\n",
       "   [386.7, 1395.8],\n",
       "   [417.7, 1183.4],\n",
       "   [387.2, 1074.6]],\n",
       "  [[486.5, 1463.4],\n",
       "   [465.6, 827.1],\n",
       "   [426, 811.6],\n",
       "   [454.8, 852.7],\n",
       "   [483.1, 823.3],\n",
       "   [546.7, 1386.2],\n",
       "   [591.7, 1458.2],\n",
       "   [215.2, 306.6],\n",
       "   [461.9, 1354.9],\n",
       "   [561, 1356.9],\n",
       "   [578.1, 1435],\n",
       "   [391.8, 1200.1],\n",
       "   [390.2, 1007.7],\n",
       "   [449.9, 810.9],\n",
       "   [498.9, 1024.9],\n",
       "   [650.1, 1012.4],\n",
       "   [493, 1054.2],\n",
       "   [535.3, 1058.9],\n",
       "   [512.8, 1000.4],\n",
       "   [331.8, 271.8]]]}"
      ]
     },
     "execution_count": 47,
     "metadata": {},
     "output_type": "execute_result"
    }
   ],
   "source": [
    "test_dict[br[0]]"
   ]
  },
  {
   "cell_type": "code",
   "execution_count": 55,
   "id": "74473cf3",
   "metadata": {},
   "outputs": [],
   "source": [
    "lenfix = []\n",
    "for _, d in anno_dict.items():\n",
    "    lenfix.append(len(d['fixations'][0]))"
   ]
  },
  {
   "cell_type": "code",
   "execution_count": 58,
   "id": "78fcf6eb",
   "metadata": {},
   "outputs": [
    {
     "data": {
      "text/plain": [
       "(1, 27)"
      ]
     },
     "execution_count": 58,
     "metadata": {},
     "output_type": "execute_result"
    }
   ],
   "source": [
    "min(lenfix), max(lenfix)"
   ]
  },
  {
   "cell_type": "code",
   "execution_count": 59,
   "id": "96d91b91",
   "metadata": {},
   "outputs": [
    {
     "data": {
      "text/plain": [
       "7.608324084350722"
      ]
     },
     "execution_count": 59,
     "metadata": {},
     "output_type": "execute_result"
    }
   ],
   "source": [
    "sum(lenfix) / len(lenfix)"
   ]
  },
  {
   "cell_type": "code",
   "execution_count": 60,
   "id": "a16831dd",
   "metadata": {},
   "outputs": [
    {
     "data": {
      "text/plain": [
       "7"
      ]
     },
     "execution_count": 60,
     "metadata": {},
     "output_type": "execute_result"
    }
   ],
   "source": [
    "from statistics import mode\n",
    "\n",
    "mode(lenfix)"
   ]
  },
  {
   "cell_type": "code",
   "execution_count": null,
   "id": "848af45c",
   "metadata": {},
   "outputs": [],
   "source": []
  }
 ],
 "metadata": {
  "kernelspec": {
   "display_name": "Python 3 (ipykernel)",
   "language": "python",
   "name": "python3"
  },
  "language_info": {
   "codemirror_mode": {
    "name": "ipython",
    "version": 3
   },
   "file_extension": ".py",
   "mimetype": "text/x-python",
   "name": "python",
   "nbconvert_exporter": "python",
   "pygments_lexer": "ipython3",
   "version": "3.8.10"
  }
 },
 "nbformat": 4,
 "nbformat_minor": 5
}
